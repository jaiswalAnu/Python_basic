{
  "nbformat": 4,
  "nbformat_minor": 0,
  "metadata": {
    "colab": {
      "provenance": []
    },
    "kernelspec": {
      "name": "python3",
      "display_name": "Python 3"
    },
    "language_info": {
      "name": "python"
    }
  },
  "cells": [
    {
      "cell_type": "markdown",
      "source": [
        "Write a python program to print \"Hello Worlds!\""
      ],
      "metadata": {
        "id": "-iRYQ9N7N3Q5"
      }
    },
    {
      "cell_type": "code",
      "execution_count": null,
      "metadata": {
        "colab": {
          "base_uri": "https://localhost:8080/"
        },
        "id": "ZRfSqCpSNN1g",
        "outputId": "08f23281-b5a1-4973-f225-d4fe1ac8a4a6"
      },
      "outputs": [
        {
          "output_type": "stream",
          "name": "stdout",
          "text": [
            "hello worlds\n"
          ]
        }
      ],
      "source": [
        "print(\"hello worlds\")"
      ]
    },
    {
      "cell_type": "markdown",
      "source": [
        "**Write a python program that displays your name and age**"
      ],
      "metadata": {
        "id": "0Vg9pGjqOe39"
      }
    },
    {
      "cell_type": "code",
      "source": [
        "name=\"Anurag Jaiswal\"\n",
        "age=25\n",
        "print(name,age)"
      ],
      "metadata": {
        "colab": {
          "base_uri": "https://localhost:8080/"
        },
        "id": "daAxlhKtOxCa",
        "outputId": "e52c4ade-e06a-4c53-a916-277bf51697a2"
      },
      "execution_count": null,
      "outputs": [
        {
          "output_type": "stream",
          "name": "stdout",
          "text": [
            "Anurag Jaiswal 25\n"
          ]
        }
      ]
    },
    {
      "cell_type": "markdown",
      "source": [
        "**write code to print all the pre-defined keywords in Python using the keyword library**"
      ],
      "metadata": {
        "id": "-Xj90pVJgqsj"
      }
    },
    {
      "cell_type": "code",
      "source": [
        "import keyword\n",
        "print(\"List of all Python keywords:\")\n",
        "for word in keyword.kwlist:\n",
        "    print(word)"
      ],
      "metadata": {
        "colab": {
          "base_uri": "https://localhost:8080/"
        },
        "id": "1_z7Ajo8PRKN",
        "outputId": "490a705c-91dc-4007-d1cf-48c2315ad0e5"
      },
      "execution_count": null,
      "outputs": [
        {
          "output_type": "stream",
          "name": "stdout",
          "text": [
            "List of all Python keywords:\n",
            "False\n",
            "None\n",
            "True\n",
            "and\n",
            "as\n",
            "assert\n",
            "async\n",
            "await\n",
            "break\n",
            "class\n",
            "continue\n",
            "def\n",
            "del\n",
            "elif\n",
            "else\n",
            "except\n",
            "finally\n",
            "for\n",
            "from\n",
            "global\n",
            "if\n",
            "import\n",
            "in\n",
            "is\n",
            "lambda\n",
            "nonlocal\n",
            "not\n",
            "or\n",
            "pass\n",
            "raise\n",
            "return\n",
            "try\n",
            "while\n",
            "with\n",
            "yield\n"
          ]
        }
      ]
    },
    {
      "cell_type": "markdown",
      "source": [
        "**write a program that checks if a given word is a Python keyword**"
      ],
      "metadata": {
        "id": "Mhx8mjJTh0sg"
      }
    },
    {
      "cell_type": "code",
      "source": [
        "import keyword\n",
        "word = input(\"Enter a word: \")\n",
        "if word in keyword.kwlist:\n",
        "    print(f\"{word} is a Python keyword.\")\n",
        "else:\n",
        "    print(f\"{word} is not a Python keyword.\")"
      ],
      "metadata": {
        "colab": {
          "base_uri": "https://localhost:8080/"
        },
        "id": "GYmL5Z0Kg12Q",
        "outputId": "597cb04e-5bae-4f43-a7a6-f41bee25c1ff"
      },
      "execution_count": null,
      "outputs": [
        {
          "output_type": "stream",
          "name": "stdout",
          "text": [
            "Enter a word: foreach\n",
            "foreach is not a Python keyword.\n"
          ]
        }
      ]
    },
    {
      "cell_type": "markdown",
      "source": [
        "write a list and tuple in Python, and demonstrate how attempting to change in element works differently for each"
      ],
      "metadata": {
        "id": "p0kcIDKEjwCn"
      }
    },
    {
      "cell_type": "code",
      "source": [
        "my_list = [1, 2, 3]\n",
        "my_tuple = (1, 2, 3)\n",
        "print(\"Original List:\", my_list)\n",
        "print(\"Original Tuple:\", my_tuple)\n",
        "my_list[0] = 10\n",
        "print(\"\\nModified List:\", my_list)\n",
        "try:\n",
        "    my_tuple[0] = 10\n",
        "except TypeError as e:\n",
        "    print(\"\\nError when trying to modify the tuple:\", e)\n"
      ],
      "metadata": {
        "colab": {
          "base_uri": "https://localhost:8080/"
        },
        "id": "DDDnC34CiAKr",
        "outputId": "b0040850-fe98-4531-b092-6635a5a1b24d"
      },
      "execution_count": null,
      "outputs": [
        {
          "output_type": "stream",
          "name": "stdout",
          "text": [
            "Original List: [1, 2, 3]\n",
            "Original Tuple: (1, 2, 3)\n",
            "\n",
            "Modified List: [10, 2, 3]\n",
            "\n",
            "Error when trying to modify the tuple: 'tuple' object does not support item assignment\n"
          ]
        }
      ]
    },
    {
      "cell_type": "markdown",
      "source": [
        "write a function to demonstrate the behavior of mutable and immutable arguments"
      ],
      "metadata": {
        "id": "PTHBd2C5lmQ4"
      }
    },
    {
      "cell_type": "code",
      "source": [
        "def modify_immutable(x):\n",
        "    x += 10\n",
        "    print(\"Inside the function:\", x)\n",
        "\n",
        "def modify_mutable(lst):\n",
        "    lst.append(4)\n",
        "    print(\"Inside the function:\", lst)\n",
        "\n",
        "# Immutable argument\n",
        "a = 42\n",
        "print(\"Before function call:\", a)\n",
        "modify_immutable(a)\n",
        "print(\"After function call:\", a)\n",
        "\n",
        "# Mutable argument (list)\n",
        "my_list = [1, 2, 3]\n",
        "print(\"Before function call:\", my_list)\n",
        "modify_mutable(my_list)\n",
        "print(\"After function call:\", my_list)"
      ],
      "metadata": {
        "colab": {
          "base_uri": "https://localhost:8080/"
        },
        "id": "nake_yWEkLmD",
        "outputId": "441a32a7-a7d5-4d04-df73-9874dcfa82eb"
      },
      "execution_count": null,
      "outputs": [
        {
          "output_type": "stream",
          "name": "stdout",
          "text": [
            "Before function call: 42\n",
            "Inside the function: 52\n",
            "After function call: 42\n",
            "Before function call: [1, 2, 3]\n",
            "Inside the function: [1, 2, 3, 4]\n",
            "After function call: [1, 2, 3, 4]\n"
          ]
        }
      ]
    },
    {
      "cell_type": "markdown",
      "source": [
        "write a function to demonstrate the behavior of mutable and immutable arguments\n",
        "\n"
      ],
      "metadata": {
        "id": "yUzyjPuJm70X"
      }
    },
    {
      "cell_type": "code",
      "source": [
        "def change_int(num):\n",
        "    num += 10\n",
        "\n",
        "def change_list(lst):\n",
        "    lst.append(4)\n",
        "\n",
        "# Immutable argument (integer)\n",
        "num = 10\n",
        "print(\"Before:\", num)\n",
        "change_int(num)\n",
        "print(\"After:\", num)\n",
        "\n",
        "# Mutable argument (list)\n",
        "my_list = [1, 2, 3]\n",
        "print(\"Before:\", my_list)\n",
        "change_list(my_list)\n",
        "print(\"After:\", my_list)"
      ],
      "metadata": {
        "colab": {
          "base_uri": "https://localhost:8080/"
        },
        "id": "MWgqFoOcl6on",
        "outputId": "b7dddbaf-2d6a-4bf2-fb78-f665957e52aa"
      },
      "execution_count": null,
      "outputs": [
        {
          "output_type": "stream",
          "name": "stdout",
          "text": [
            "Before: 10\n",
            "After: 10\n",
            "Before: [1, 2, 3]\n",
            "After: [1, 2, 3, 4]\n"
          ]
        }
      ]
    },
    {
      "cell_type": "markdown",
      "source": [
        "write a program to demonstrate the use of logical operators"
      ],
      "metadata": {
        "id": "wi1gVAm8nklf"
      }
    },
    {
      "cell_type": "code",
      "source": [
        "x = True\n",
        "y = False\n",
        "\n",
        "# AND operator\n",
        "print(x and y)\n",
        "\n",
        "# OR operator\n",
        "print(x or y)\n",
        "\n",
        "# NOT operator\n",
        "print(not x)"
      ],
      "metadata": {
        "colab": {
          "base_uri": "https://localhost:8080/"
        },
        "id": "poWJkJwznwql",
        "outputId": "dcb2aa9b-47b2-4169-a98d-b9a61575fedf"
      },
      "execution_count": null,
      "outputs": [
        {
          "output_type": "stream",
          "name": "stdout",
          "text": [
            "False\n",
            "True\n",
            "False\n"
          ]
        }
      ]
    },
    {
      "cell_type": "markdown",
      "source": [
        "write a Python program to convert user input from string to integer float, and boolean types"
      ],
      "metadata": {
        "id": "edb3dsTFpF_P"
      }
    },
    {
      "cell_type": "code",
      "source": [
        "# Get input from the user\n",
        "user = input(\"Enter a value: \")\n",
        "\n",
        "# Convert to integer\n",
        "try:\n",
        "    I_value = int(user)\n",
        "    print(\"Integer:\", I_value)\n",
        "except ValueError:\n",
        "    print(\"Cannot convert to Integer.\")\n",
        "\n",
        "# Convert to float\n",
        "try:\n",
        "    f_value = float(user)\n",
        "    print(\"Float:\", f_value)\n",
        "except ValueError:\n",
        "    print(\"Cannot convert to Float.\")\n",
        "\n",
        "# Convert to boolean\n",
        "b_value = bool(user.strip())\n",
        "print(\"Boolean:\", b_value)\n"
      ],
      "metadata": {
        "colab": {
          "base_uri": "https://localhost:8080/"
        },
        "id": "fvFJjo__nKKU",
        "outputId": "15b8c536-2aa8-488d-e7e4-aecbdc02c1f4"
      },
      "execution_count": null,
      "outputs": [
        {
          "output_type": "stream",
          "name": "stdout",
          "text": [
            "Enter a value: 56\n",
            "Integer: 56\n",
            "Float: 56.0\n",
            "Boolean: True\n"
          ]
        }
      ]
    },
    {
      "cell_type": "markdown",
      "source": [
        "write code to demonstrate type casting with list elements"
      ],
      "metadata": {
        "id": "SE7G5AeHqzki"
      }
    },
    {
      "cell_type": "code",
      "source": [
        "my_list = [1, 2.5, \"3\", True]\n",
        "\n",
        "# Convert all elements to strings\n",
        "string_list = [str(item) for item in my_list]\n",
        "print(\"String list:\", string_list)\n",
        "\n",
        "# Convert all elements to integers (if possible)\n",
        "integer_list = []\n",
        "for item in my_list:\n",
        "    try:\n",
        "        integer_list.append(int(item))\n",
        "    except ValueError:\n",
        "        integer_list.append(item)\n",
        "print(\"Integer list:\", integer_list)\n",
        "\n",
        "# Convert all elements to floats (if possible)\n",
        "float_list = []\n",
        "for item in my_list:\n",
        "    try:\n",
        "        float_list.append(float(item))\n",
        "    except ValueError:\n",
        "        float_list.append(item)\n",
        "print(\"Float list:\", float_list)"
      ],
      "metadata": {
        "colab": {
          "base_uri": "https://localhost:8080/"
        },
        "id": "6HFu5Mkupeq0",
        "outputId": "1dd3984c-de62-4770-99e4-4599d84b0d71"
      },
      "execution_count": null,
      "outputs": [
        {
          "output_type": "stream",
          "name": "stdout",
          "text": [
            "String list: ['1', '2.5', '3', 'True']\n",
            "Integer list: [1, 2, 3, 1]\n",
            "Float list: [1.0, 2.5, 3.0, 1.0]\n"
          ]
        }
      ]
    },
    {
      "cell_type": "markdown",
      "source": [
        "write a program that checks if a number is positive, negative, or zero"
      ],
      "metadata": {
        "id": "fMhLv-8_sR4o"
      }
    },
    {
      "cell_type": "code",
      "source": [
        "num = float(input(\"Enter a number: \"))\n",
        "\n",
        "if num > 0:\n",
        "    print(\"The number is positive.\")\n",
        "elif num < 0:\n",
        "    print(\"The number is negative.\")\n",
        "else:\n",
        "    print(\"The number is zero.\")"
      ],
      "metadata": {
        "colab": {
          "base_uri": "https://localhost:8080/"
        },
        "id": "C4TJN0paq5Nb",
        "outputId": "795ebfda-4e8e-47bf-f954-83ada8aed051"
      },
      "execution_count": null,
      "outputs": [
        {
          "output_type": "stream",
          "name": "stdout",
          "text": [
            "Enter a number: 0\n",
            "The number is zero.\n"
          ]
        }
      ]
    },
    {
      "cell_type": "markdown",
      "source": [
        "write a for loop to print numbers from 1 to 10"
      ],
      "metadata": {
        "id": "6uCloF4os43A"
      }
    },
    {
      "cell_type": "code",
      "source": [
        "for i in range(1, 11):\n",
        "    print(i)"
      ],
      "metadata": {
        "colab": {
          "base_uri": "https://localhost:8080/"
        },
        "id": "YitVLHI_sbcP",
        "outputId": "f3d0d841-ba8d-4279-f9f8-ad7d032f7a5c"
      },
      "execution_count": null,
      "outputs": [
        {
          "output_type": "stream",
          "name": "stdout",
          "text": [
            "1\n",
            "2\n",
            "3\n",
            "4\n",
            "5\n",
            "6\n",
            "7\n",
            "8\n",
            "9\n",
            "10\n"
          ]
        }
      ]
    },
    {
      "cell_type": "markdown",
      "source": [
        "write a Python program to find the sum of all even numbers between a to 50"
      ],
      "metadata": {
        "id": "FenAC7xBt1cz"
      }
    },
    {
      "cell_type": "code",
      "source": [
        "\n",
        "\n",
        "sum = 0\n",
        "for num in range(1, 51):\n",
        "    if num % 2 == 0:\n",
        "        sum += num\n",
        "\n",
        "print(\"Sum of even numbers between 1 to 50\", sum)"
      ],
      "metadata": {
        "id": "BFXxNO8htDxD"
      },
      "execution_count": null,
      "outputs": []
    },
    {
      "cell_type": "markdown",
      "source": [
        "write a program to reverse a string using a while loop"
      ],
      "metadata": {
        "id": "Bab7PZaz2zAF"
      }
    },
    {
      "cell_type": "code",
      "source": [
        "# Get input from the user\n",
        "original_string = input(\"Enter a string: \")\n",
        "\n",
        "# Initialize variables\n",
        "reversed_string = \"\"\n",
        "index = len(original_string) - 1  # Start from the last character\n",
        "\n",
        "# Use a while loop to reverse the string\n",
        "while index >= 0:\n",
        "    reversed_string += original_string[index]\n",
        "    index -= 1\n",
        "\n",
        "# Print the reversed string\n",
        "print(\"Reversed string:\", reversed_string)\n"
      ],
      "metadata": {
        "id": "VduagIgXt7Ed"
      },
      "execution_count": null,
      "outputs": []
    },
    {
      "cell_type": "markdown",
      "source": [
        "Write a Python program to calculate the factorial of a number provided by the user using a while loop"
      ],
      "metadata": {
        "id": "rkLGqVgl9GpB"
      }
    },
    {
      "cell_type": "code",
      "source": [
        "def factorial(n):\n",
        "    if n < 0:\n",
        "        return \"Factorial is not defined for negative numbers.\"\n",
        "    elif n == 0:\n",
        "        return 1\n",
        "    else:\n",
        "        factorial = 1\n",
        "        while n > 0:\n",
        "            factorial *= n\n",
        "            n -= 1\n",
        "        return factorial\n",
        "\n",
        "num = int(input(\"Enter a non-negative integer: \"))\n",
        "result = factorial(num)\n",
        "print(f\"The factorial of {num} is {result}\")"
      ],
      "metadata": {
        "colab": {
          "base_uri": "https://localhost:8080/"
        },
        "id": "5RW2atC823hf",
        "outputId": "18301acd-6a31-4237-eb89-60193d592f25"
      },
      "execution_count": null,
      "outputs": [
        {
          "output_type": "stream",
          "name": "stdout",
          "text": [
            "Enter a non-negative integer: 6\n",
            "The factorial of 6 is 720\n"
          ]
        }
      ]
    },
    {
      "cell_type": "code",
      "source": [],
      "metadata": {
        "id": "vZ-xlckk9QLx"
      },
      "execution_count": null,
      "outputs": []
    }
  ]
}